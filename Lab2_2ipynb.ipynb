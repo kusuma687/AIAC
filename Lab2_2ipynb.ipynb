{
  "nbformat": 4,
  "nbformat_minor": 0,
  "metadata": {
    "colab": {
      "provenance": [],
      "authorship_tag": "ABX9TyMEfavw83HVycwrRzO4T1nw",
      "include_colab_link": true
    },
    "kernelspec": {
      "name": "python3",
      "display_name": "Python 3"
    },
    "language_info": {
      "name": "python"
    }
  },
  "cells": [
    {
      "cell_type": "markdown",
      "metadata": {
        "id": "view-in-github",
        "colab_type": "text"
      },
      "source": [
        "<a href=\"https://colab.research.google.com/github/kusuma687/AIAC/blob/main/Lab2_2ipynb.ipynb\" target=\"_parent\"><img src=\"https://colab.research.google.com/assets/colab-badge.svg\" alt=\"Open In Colab\"/></a>"
      ]
    },
    {
      "cell_type": "code",
      "execution_count": null,
      "metadata": {
        "id": "GLkI1nGsvlme"
      },
      "outputs": [],
      "source": []
    },
    {
      "cell_type": "markdown",
      "source": [
        "Task0:Bulid python function to check the given number is prime or not"
      ],
      "metadata": {
        "id": "ZSBKWDLkvqXC"
      }
    },
    {
      "cell_type": "code",
      "source": [],
      "metadata": {
        "id": "OCyURjXHwiJ6"
      },
      "execution_count": null,
      "outputs": []
    },
    {
      "cell_type": "code",
      "metadata": {
        "colab": {
          "base_uri": "https://localhost:8080/"
        },
        "id": "f8950182",
        "outputId": "e3355151-52ed-4ffc-f428-b7d5a5110f4d"
      },
      "source": [
        "def is_prime(number):\n",
        "  \"\"\"Checks if a given number is prime.\"\"\"\n",
        "  if number <= 1:\n",
        "    return False  # Numbers less than or equal to 1 are not prime\n",
        "  for i in range(2, int(number**0.5) + 1):\n",
        "    if number % i == 0:\n",
        "      return False  # If the number is divisible by any number in this range, it's not prime\n",
        "  return True  # Otherwise, it's prime\n",
        "\n",
        "# Example usage:\n",
        "num = 17\n",
        "if is_prime(num):\n",
        "  print(f\"{num} is a prime number\")\n",
        "else:\n",
        "  print(f\"{num} is not a prime number\")\n",
        "\n",
        "num = 10\n",
        "if is_prime(num):\n",
        "  print(f\"{num} is a prime number\")\n",
        "else:\n",
        "  print(f\"{num} is not a prime number\")"
      ],
      "execution_count": 1,
      "outputs": [
        {
          "output_type": "stream",
          "name": "stdout",
          "text": [
            "17 is a prime number\n",
            "10 is not a prime number\n"
          ]
        }
      ]
    }
  ]
}