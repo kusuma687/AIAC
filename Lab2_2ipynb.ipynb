{
  "nbformat": 4,
  "nbformat_minor": 0,
  "metadata": {
    "colab": {
      "provenance": [],
      "authorship_tag": "ABX9TyPg1E/NmUcshL6Kc6UGkLOl",
      "include_colab_link": true
    },
    "kernelspec": {
      "name": "python3",
      "display_name": "Python 3"
    },
    "language_info": {
      "name": "python"
    }
  },
  "cells": [
    {
      "cell_type": "markdown",
      "metadata": {
        "id": "view-in-github",
        "colab_type": "text"
      },
      "source": [
        "<a href=\"https://colab.research.google.com/github/kusuma687/AIAC/blob/main/Lab2_2ipynb.ipynb\" target=\"_parent\"><img src=\"https://colab.research.google.com/assets/colab-badge.svg\" alt=\"Open In Colab\"/></a>"
      ]
    },
    {
      "cell_type": "code",
      "execution_count": null,
      "metadata": {
        "id": "GLkI1nGsvlme"
      },
      "outputs": [],
      "source": []
    },
    {
      "cell_type": "markdown",
      "source": [
        "Task0:Bulid python function to check the given number is prime or not"
      ],
      "metadata": {
        "id": "ZSBKWDLkvqXC"
      }
    },
    {
      "cell_type": "code",
      "source": [],
      "metadata": {
        "id": "OCyURjXHwiJ6"
      },
      "execution_count": null,
      "outputs": []
    },
    {
      "cell_type": "code",
      "metadata": {
        "colab": {
          "base_uri": "https://localhost:8080/"
        },
        "id": "f8950182",
        "outputId": "e3355151-52ed-4ffc-f428-b7d5a5110f4d"
      },
      "source": [
        "def is_prime(number):\n",
        "  \"\"\"Checks if a given number is prime.\"\"\"\n",
        "  if number <= 1:\n",
        "    return False  # Numbers less than or equal to 1 are not prime\n",
        "  for i in range(2, int(number**0.5) + 1):\n",
        "    if number % i == 0:\n",
        "      return False  # If the number is divisible by any number in this range, it's not prime\n",
        "  return True  # Otherwise, it's prime\n",
        "\n",
        "# Example usage:\n",
        "num = 17\n",
        "if is_prime(num):\n",
        "  print(f\"{num} is a prime number\")\n",
        "else:\n",
        "  print(f\"{num} is not a prime number\")\n",
        "\n",
        "num = 10\n",
        "if is_prime(num):\n",
        "  print(f\"{num} is a prime number\")\n",
        "else:\n",
        "  print(f\"{num} is not a prime number\")"
      ],
      "execution_count": 1,
      "outputs": [
        {
          "output_type": "stream",
          "name": "stdout",
          "text": [
            "17 is a prime number\n",
            "10 is not a prime number\n"
          ]
        }
      ]
    },
    {
      "cell_type": "markdown",
      "source": [
        "write a function that filters out all negative numbers from a given list.\n",
        "\n",
        "prompt:write a python function that filters out all negative numbers from a given list"
      ],
      "metadata": {
        "id": "YKDOh7SizrKk"
      }
    },
    {
      "cell_type": "code",
      "source": [
        "def filter_negative_numbers(input_list):\n",
        "  \"\"\"Filters out all negative numbers from a given list.\"\"\"\n",
        "  return [number for number in input_list if number >= 0]\n",
        "\n",
        "# Example usage:\n",
        "my_list = [1, -2, 3, -4, 5, -6, 7]\n",
        "filtered_list = filter_negative_numbers(my_list)\n",
        "print(f\"Original list: {my_list}\")\n",
        "print(f\"Filtered list: {filtered_list}\")"
      ],
      "metadata": {
        "colab": {
          "base_uri": "https://localhost:8080/"
        },
        "id": "Rc2Gk3rGzvTn",
        "outputId": "703f7cbc-d292-4619-d8a8-472601945f65"
      },
      "execution_count": 2,
      "outputs": [
        {
          "output_type": "stream",
          "name": "stdout",
          "text": [
            "Original list: [1, -2, 3, -4, 5, -6, 7]\n",
            "Filtered list: [1, 3, 5, 7]\n"
          ]
        }
      ]
    },
    {
      "cell_type": "markdown",
      "source": [
        "Explanation:\n",
        "The core of the function is this line: return [number for number in input_list if number >= 0]\n",
        "This is a list comprehension, which is a concise way to create lists in Python.\n",
        "It iterates through each number in the input_list.\n",
        "For each number, it checks if the number is greater than or equal to 0 (i.e., not negative) using the if number >= 0 condition.\n",
        "If the condition is true, the number is included in the new list that is being created.\n",
        "Finally, the function returns this new list which contains only the non-negative numbers.\n",
        "The lines after the function definition are an example of how to use the function:\n",
        "my_list = [1, -2, 3, -4, 5, -6, 7] creates a sample list with both positive and negative numbers.\n",
        "filtered_list = filter_negative_numbers(my_list) calls the function with my_list and stores the returned list (with negative numbers filtered out) in the variable filtered_list.\n",
        "The print statements then display both the original list and the filtered list so you can see the result.\n",
        "In short, this code defines and demonstrates a simple way to create a new list containing only the positive numbers and zero from an existing list."
      ],
      "metadata": {
        "id": "6oLJd9MK2DUP"
      }
    },
    {
      "cell_type": "markdown",
      "source": [
        "Task1:Generate code that reads a text file and counts the frequency of each word.\n",
        "\n",
        "prompt:Generate  a python code that reads a text file and counts the frequency of each word.\n"
      ],
      "metadata": {
        "id": "ZdcLfnQy2nUu"
      }
    },
    {
      "cell_type": "code",
      "source": [],
      "metadata": {
        "id": "x4T8C8Ue2ZOc"
      },
      "execution_count": null,
      "outputs": []
    },
    {
      "cell_type": "code",
      "metadata": {
        "colab": {
          "base_uri": "https://localhost:8080/"
        },
        "id": "ea5fa570",
        "outputId": "d1cf7f83-e55b-423f-e544-45a4d983a9c6"
      },
      "source": [
        "import re\n",
        "from collections import Counter\n",
        "\n",
        "def count_word_frequency(filepath):\n",
        "  \"\"\"Reads a text file and counts the frequency of each word.\"\"\"\n",
        "  word_list = []\n",
        "  with open(filepath, 'r', encoding='utf-8') as file:\n",
        "    for line in file:\n",
        "      # Remove punctuation and convert to lowercase\n",
        "      line = re.sub(r'[^\\w\\s]', '', line).lower()\n",
        "      words = line.split()\n",
        "      word_list.extend(words)\n",
        "\n",
        "  # Count word frequencies\n",
        "  word_counts = Counter(word_list)\n",
        "  return word_counts\n",
        "\n",
        "# Example usage:\n",
        "# Create a dummy text file for testing\n",
        "with open('sample.txt', 'w', encoding='utf-8') as f:\n",
        "    f.write(\"This is a sample text file.\\n\")\n",
        "    f.write(\"This file is for testing purposes.\\n\")\n",
        "    f.write(\"Testing is important.\")\n",
        "\n",
        "filepath = 'sample.txt'\n",
        "word_frequencies = count_word_frequency(filepath)\n",
        "\n",
        "# Print the word frequencies\n",
        "for word, count in word_frequencies.most_common():\n",
        "  print(f\"{word}: {count}\")"
      ],
      "execution_count": 3,
      "outputs": [
        {
          "output_type": "stream",
          "name": "stdout",
          "text": [
            "is: 3\n",
            "this: 2\n",
            "file: 2\n",
            "testing: 2\n",
            "a: 1\n",
            "sample: 1\n",
            "text: 1\n",
            "for: 1\n",
            "purposes: 1\n",
            "important: 1\n"
          ]
        }
      ]
    },
    {
      "cell_type": "markdown",
      "source": [
        "Explanation:This Python code reads a text file, removes punctuation, converts text to lowercase, and then uses the Counter object to count how many times each word appears. It demonstrates this by creating a sample file, counting words in it, and printing the results"
      ],
      "metadata": {
        "id": "HZ7T841n4RIb"
      }
    },
    {
      "cell_type": "code",
      "source": [],
      "metadata": {
        "id": "UrDuikKU5GSg"
      },
      "execution_count": null,
      "outputs": []
    }
  ]
}