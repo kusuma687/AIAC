{
  "nbformat": 4,
  "nbformat_minor": 0,
  "metadata": {
    "colab": {
      "provenance": [],
      "authorship_tag": "ABX9TyPKBe3BR7pZRWuhaJbd/KXO",
      "include_colab_link": true
    },
    "kernelspec": {
      "name": "python3",
      "display_name": "Python 3"
    },
    "language_info": {
      "name": "python"
    }
  },
  "cells": [
    {
      "cell_type": "markdown",
      "metadata": {
        "id": "view-in-github",
        "colab_type": "text"
      },
      "source": [
        "<a href=\"https://colab.research.google.com/github/kusuma687/AIAC/blob/main/Lab2_2ipynb.ipynb\" target=\"_parent\"><img src=\"https://colab.research.google.com/assets/colab-badge.svg\" alt=\"Open In Colab\"/></a>"
      ]
    },
    {
      "cell_type": "markdown",
      "source": [],
      "metadata": {
        "id": "xEppGBRw9D37"
      }
    },
    {
      "cell_type": "markdown",
      "source": [
        "Task0:write python function to check the given number is prime or not.\n",
        "\n",
        "prompt:write python function to check the given number is prime or not"
      ],
      "metadata": {
        "id": "2XO5VjaE9LpR"
      }
    },
    {
      "cell_type": "code",
      "metadata": {
        "colab": {
          "base_uri": "https://localhost:8080/"
        },
        "id": "f8950182",
        "outputId": "e3355151-52ed-4ffc-f428-b7d5a5110f4d"
      },
      "source": [
        "def is_prime(number):\n",
        "  \"\"\"Checks if a given number is prime.\"\"\"\n",
        "  if number <= 1:\n",
        "    return False  # Numbers less than or equal to 1 are not prime\n",
        "  for i in range(2, int(number**0.5) + 1):\n",
        "    if number % i == 0:\n",
        "      return False  # If the number is divisible by any number in this range, it's not prime\n",
        "  return True  # Otherwise, it's prime\n",
        "\n",
        "# Example usage:\n",
        "num = 17\n",
        "if is_prime(num):\n",
        "  print(f\"{num} is a prime number\")\n",
        "else:\n",
        "  print(f\"{num} is not a prime number\")\n",
        "\n",
        "num = 10\n",
        "if is_prime(num):\n",
        "  print(f\"{num} is a prime number\")\n",
        "else:\n",
        "  print(f\"{num} is not a prime number\")"
      ],
      "execution_count": 1,
      "outputs": [
        {
          "output_type": "stream",
          "name": "stdout",
          "text": [
            "17 is a prime number\n",
            "10 is not a prime number\n"
          ]
        }
      ]
    },
    {
      "cell_type": "markdown",
      "source": [
        "Task1:write a function that filters out all negative numbers from a given list.\n",
        "\n",
        "prompt:write a python function that filters out all negative numbers from a given list"
      ],
      "metadata": {
        "id": "YKDOh7SizrKk"
      }
    },
    {
      "cell_type": "code",
      "source": [
        "def filter_negative_numbers(input_list):\n",
        "  \"\"\"Filters out all negative numbers from a given list.\"\"\"\n",
        "  return [number for number in input_list if number >= 0]\n",
        "\n",
        "# Example usage:\n",
        "my_list = [1, -2, 3, -4, 5, -6, 7]\n",
        "filtered_list = filter_negative_numbers(my_list)\n",
        "print(f\"Original list: {my_list}\")\n",
        "print(f\"Filtered list: {filtered_list}\")"
      ],
      "metadata": {
        "colab": {
          "base_uri": "https://localhost:8080/"
        },
        "id": "Rc2Gk3rGzvTn",
        "outputId": "703f7cbc-d292-4619-d8a8-472601945f65"
      },
      "execution_count": 2,
      "outputs": [
        {
          "output_type": "stream",
          "name": "stdout",
          "text": [
            "Original list: [1, -2, 3, -4, 5, -6, 7]\n",
            "Filtered list: [1, 3, 5, 7]\n"
          ]
        }
      ]
    },
    {
      "cell_type": "markdown",
      "source": [
        "Explanation:\n",
        "The core of the function is this line: return [number for number in input_list if number >= 0]\n",
        "This is a list comprehension, which is a concise way to create lists in Python.\n",
        "It iterates through each number in the input_list.\n",
        "For each number, it checks if the number is greater than or equal to 0 (i.e., not negative) using the if number >= 0 condition.\n",
        "If the condition is true, the number is included in the new list that is being created.\n",
        "Finally, the function returns this new list which contains only the non-negative numbers.\n",
        "The lines after the function definition are an example of how to use the function:\n",
        "my_list = [1, -2, 3, -4, 5, -6, 7] creates a sample list with both positive and negative numbers.\n",
        "filtered_list = filter_negative_numbers(my_list) calls the function with my_list and stores the returned list (with negative numbers filtered out) in the variable filtered_list.\n",
        "The print statements then display both the original list and the filtered list so you can see the result.\n",
        "In short, this code defines and demonstrates a simple way to create a new list containing only the positive numbers and zero from an existing list."
      ],
      "metadata": {
        "id": "6oLJd9MK2DUP"
      }
    },
    {
      "cell_type": "markdown",
      "source": [
        "Task2:Generate code that reads a text file and counts the frequency of each word.\n",
        "\n",
        "prompt:Generate  a python code that reads a text file and counts the frequency of each word.\n"
      ],
      "metadata": {
        "id": "ZdcLfnQy2nUu"
      }
    },
    {
      "cell_type": "code",
      "metadata": {
        "colab": {
          "base_uri": "https://localhost:8080/"
        },
        "id": "ea5fa570",
        "outputId": "d1cf7f83-e55b-423f-e544-45a4d983a9c6"
      },
      "source": [
        "import re\n",
        "from collections import Counter\n",
        "\n",
        "def count_word_frequency(filepath):\n",
        "  \"\"\"Reads a text file and counts the frequency of each word.\"\"\"\n",
        "  word_list = []\n",
        "  with open(filepath, 'r', encoding='utf-8') as file:\n",
        "    for line in file:\n",
        "      # Remove punctuation and convert to lowercase\n",
        "      line = re.sub(r'[^\\w\\s]', '', line).lower()\n",
        "      words = line.split()\n",
        "      word_list.extend(words)\n",
        "\n",
        "  # Count word frequencies\n",
        "  word_counts = Counter(word_list)\n",
        "  return word_counts\n",
        "\n",
        "# Example usage:\n",
        "# Create a dummy text file for testing\n",
        "with open('sample.txt', 'w', encoding='utf-8') as f:\n",
        "    f.write(\"This is a sample text file.\\n\")\n",
        "    f.write(\"This file is for testing purposes.\\n\")\n",
        "    f.write(\"Testing is important.\")\n",
        "\n",
        "filepath = 'sample.txt'\n",
        "word_frequencies = count_word_frequency(filepath)\n",
        "\n",
        "# Print the word frequencies\n",
        "for word, count in word_frequencies.most_common():\n",
        "  print(f\"{word}: {count}\")"
      ],
      "execution_count": 3,
      "outputs": [
        {
          "output_type": "stream",
          "name": "stdout",
          "text": [
            "is: 3\n",
            "this: 2\n",
            "file: 2\n",
            "testing: 2\n",
            "a: 1\n",
            "sample: 1\n",
            "text: 1\n",
            "for: 1\n",
            "purposes: 1\n",
            "important: 1\n"
          ]
        }
      ]
    },
    {
      "cell_type": "markdown",
      "source": [
        "Explanation:This Python code reads a text file, removes punctuation, converts text to lowercase, and then uses the Counter object to count how many times each word appears. It demonstrates this by creating a sample file, counting words in it, and printing the results"
      ],
      "metadata": {
        "id": "HZ7T841n4RIb"
      }
    },
    {
      "cell_type": "markdown",
      "source": [
        "Task3:Use Cursor AI to generate a Python class called Book with attributes title, author, and\n",
        "a method summary() that prints the details.\n",
        "\n",
        "prompt:generate a Python class called Book with attributes title, author, and a method summary that prints the details.\n"
      ],
      "metadata": {
        "id": "fTWtfguV5cUi"
      }
    },
    {
      "cell_type": "code",
      "metadata": {
        "colab": {
          "base_uri": "https://localhost:8080/"
        },
        "id": "748a9cdf",
        "outputId": "d73acef2-6354-484a-f831-b1b06210f7d3"
      },
      "source": [
        "class Book:\n",
        "  \"\"\"Represents a book with a title and author.\"\"\"\n",
        "  def __init__(self, title, author):\n",
        "    \"\"\"Initializes a new Book object.\"\"\"\n",
        "    self.title = title\n",
        "    self.author = author\n",
        "\n",
        "  def summary(self):\n",
        "    \"\"\"Prints the details of the book.\"\"\"\n",
        "    print(f\"Title: {self.title}\")\n",
        "    print(f\"Author: {self.author}\")\n",
        "\n",
        "# Example usage:\n",
        "my_book = Book(\"The Hitchhiker's Guide to the Galaxy\", \"Douglas Adams\")\n",
        "my_book.summary()"
      ],
      "execution_count": 4,
      "outputs": [
        {
          "output_type": "stream",
          "name": "stdout",
          "text": [
            "Title: The Hitchhiker's Guide to the Galaxy\n",
            "Author: Douglas Adams\n"
          ]
        }
      ]
    },
    {
      "cell_type": "markdown",
      "source": [
        "Explanation:This code defines a Python class named Book. Think of a class as a blueprint for creating objects.\n",
        "\n",
        "The __init__ method is like the setup process when you create a new book object. It takes the title and author you provide and stores them as part of that specific book object.\n",
        "The summary method is an action that a book object can perform. When you call summary() on a book object, it will print out the title and author that were stored when the object was created.\n",
        "The example usage shows how to create a Book object by giving it a title and author, and then how to call the summary() method to display those details.\n",
        "\n",
        "In short, it's a simple way to organize book information and a way to easily print that information for any book object you create using this class."
      ],
      "metadata": {
        "id": "QgnklCyD794z"
      }
    },
    {
      "cell_type": "markdown",
      "source": [
        "Task4:Ask Gemini to write a program that checks whether a number is an Armstrong\n",
        "number, and then modify it using Cursor AI to improve performance or structure.\n",
        "\n",
        "prompt:write a program that checks whether a number is an Armstrong\n",
        "number, and then modify it using Cursor AI to improve performance or structure."
      ],
      "metadata": {
        "id": "7-PzgyxB9opG"
      }
    },
    {
      "cell_type": "code",
      "source": [
        "def is_armstrong_number(number):\n",
        "  \"\"\"Checks if a number is an Armstrong number.\"\"\"\n",
        "  # Convert the number to a string to find the number of digits\n",
        "  num_str = str(number)\n",
        "  num_digits = len(num_str)\n",
        "\n",
        "  # Calculate the sum of each digit raised to the power of the number of digits\n",
        "  sum_of_powers = 0\n",
        "  for digit in num_str:\n",
        "    sum_of_powers += int(digit) ** num_digits\n",
        "\n",
        "  # Check if the sum is equal to the original number\n",
        "  return sum_of_powers == number\n",
        "\n",
        "# Example usage:\n",
        "num1 = 153\n",
        "if is_armstrong_number(num1):\n",
        "  print(f\"{num1} is an Armstrong number\")\n",
        "else:\n",
        "  print(f\"{num1} is not an Armstrong number\")\n",
        "\n",
        "num2 = 123\n",
        "if is_armstrong_number(num2):\n",
        "  print(f\"{num2} is an Armstrong number\")\n",
        "else:\n",
        "  print(f\"{num2} is not an Armstrong number\")"
      ],
      "metadata": {
        "colab": {
          "base_uri": "https://localhost:8080/"
        },
        "id": "CO54t-sF8tNg",
        "outputId": "842f0bcf-fa60-46e7-ad62-64b02cf711dc"
      },
      "execution_count": 5,
      "outputs": [
        {
          "output_type": "stream",
          "name": "stdout",
          "text": [
            "153 is an Armstrong number\n",
            "123 is not an Armstrong number\n"
          ]
        }
      ]
    },
    {
      "cell_type": "markdown",
      "source": [
        "Explanation:The function is_armstrong_number takes a number and determines if it's an Armstrong number.\n",
        "\n",
        "It first figures out how many digits the number has by converting it to a string and checking its length.\n",
        "Then, it goes through each digit of the number. For each digit, it raises that digit to the power of the total number of digits.\n",
        "It adds up all these results.\n",
        "Finally, it checks if this total sum is equal to the original number. If it is, the function says the number is an Armstrong number (returns True); otherwise, it says it's not (returns False).\n",
        "The example code then shows how to call this function with a couple of numbers and print the result."
      ],
      "metadata": {
        "id": "ZE_HBt8X-OwB"
      }
    },
    {
      "cell_type": "markdown",
      "source": [
        "Task5:Use both Gemini and Cursor AI to generate code for sorting a list of dictionaries by a\n",
        "specific key (e.g., age)\n",
        "prompt:generate a python code for sorting a list of dictionaries by a\n",
        "specific key (e.g., age)"
      ],
      "metadata": {
        "id": "O8nATYNL_Abk"
      }
    },
    {
      "cell_type": "code",
      "source": [
        "def sort_list_of_dicts(list_of_dicts, key_to_sort_by):\n",
        "  \"\"\"Sorts a list of dictionaries by a specific key.\"\"\"\n",
        "  return sorted(list_of_dicts, key=lambda x: x[key_to_sort_by])\n",
        "\n",
        "# Example usage:\n",
        "list_of_people = [\n",
        "    {'name': 'Alice', 'age': 30, 'city': 'New York'},\n",
        "    {'name': 'Bob', 'age': 25, 'city': 'London'},\n",
        "    {'name': 'Charlie', 'age': 35, 'city': 'Paris'},\n",
        "    {'name': 'David', 'age': 25, 'city': 'Tokyo'}\n",
        "]\n",
        "\n",
        "sorted_by_age = sort_list_of_dicts(list_of_people, 'age')\n",
        "print(\"Sorted by age:\")\n",
        "for person in sorted_by_age:\n",
        "  print(person)\n",
        "\n",
        "sorted_by_name = sort_list_of_dicts(list_of_people, 'name')\n",
        "print(\"\\nSorted by name:\")\n",
        "for person in sorted_by_name:\n",
        "  print(person)"
      ],
      "metadata": {
        "colab": {
          "base_uri": "https://localhost:8080/"
        },
        "id": "GfFLJg_Z_SKx",
        "outputId": "56d4b079-f711-4f6e-ae54-340df0dd5b3a"
      },
      "execution_count": 6,
      "outputs": [
        {
          "output_type": "stream",
          "name": "stdout",
          "text": [
            "Sorted by age:\n",
            "{'name': 'Bob', 'age': 25, 'city': 'London'}\n",
            "{'name': 'David', 'age': 25, 'city': 'Tokyo'}\n",
            "{'name': 'Alice', 'age': 30, 'city': 'New York'}\n",
            "{'name': 'Charlie', 'age': 35, 'city': 'Paris'}\n",
            "\n",
            "Sorted by name:\n",
            "{'name': 'Alice', 'age': 30, 'city': 'New York'}\n",
            "{'name': 'Bob', 'age': 25, 'city': 'London'}\n",
            "{'name': 'Charlie', 'age': 35, 'city': 'Paris'}\n",
            "{'name': 'David', 'age': 25, 'city': 'Tokyo'}\n"
          ]
        }
      ]
    },
    {
      "cell_type": "markdown",
      "source": [
        "Explantation:This Python code reads a text file, removes punctuation, converts text to lowercase, and then uses the Counter object to count how many times each word appears. It demonstrates this by creating a sample file, counting words in it, and printing the results."
      ],
      "metadata": {
        "id": "8MKw9cAX_jmc"
      }
    },
    {
      "cell_type": "code",
      "source": [],
      "metadata": {
        "id": "Q_Xw-JzR_3Yx"
      },
      "execution_count": null,
      "outputs": []
    }
  ]
}