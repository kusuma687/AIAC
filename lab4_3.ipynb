{
  "nbformat": 4,
  "nbformat_minor": 0,
  "metadata": {
    "colab": {
      "provenance": [],
      "authorship_tag": "ABX9TyOkRMMdf6BTkTorrPEE/Gl5",
      "include_colab_link": true
    },
    "kernelspec": {
      "name": "python3",
      "display_name": "Python 3"
    },
    "language_info": {
      "name": "python"
    }
  },
  "cells": [
    {
      "cell_type": "markdown",
      "metadata": {
        "id": "view-in-github",
        "colab_type": "text"
      },
      "source": [
        "<a href=\"https://colab.research.google.com/github/kusuma687/AIAC/blob/main/lab4_3.ipynb\" target=\"_parent\"><img src=\"https://colab.research.google.com/assets/colab-badge.svg\" alt=\"Open In Colab\"/></a>"
      ]
    },
    {
      "cell_type": "markdown",
      "source": [
        "Task1:Zero-shot: Prompt AI to write a function that checks whether a given year is a leap year.\n",
        "\n",
        "prompt:write a function that checks whether a given year is a leap year."
      ],
      "metadata": {
        "id": "QiKExwq6ZYzo"
      }
    },
    {
      "cell_type": "code",
      "execution_count": 1,
      "metadata": {
        "colab": {
          "base_uri": "https://localhost:8080/"
        },
        "id": "J9XevbwiZVqg",
        "outputId": "2163796c-1909-42e4-f195-7d961636bc4c"
      },
      "outputs": [
        {
          "output_type": "stream",
          "name": "stdout",
          "text": [
            "True\n",
            "False\n",
            "True\n"
          ]
        }
      ],
      "source": [
        "def is_leap_year(year):\n",
        "  \"\"\"\n",
        "  Checks if a given year is a leap year.\n",
        "\n",
        "  Args:\n",
        "    year: The year to check.\n",
        "\n",
        "  Returns:\n",
        "    True if the year is a leap year, False otherwise.\n",
        "  \"\"\"\n",
        "  return (year % 4 == 0 and year % 100 != 0) or (year % 400 == 0)\n",
        "\n",
        "# Example usage:\n",
        "print(is_leap_year(2024))\n",
        "print(is_leap_year(1900))\n",
        "print(is_leap_year(2000))"
      ]
    },
    {
      "cell_type": "markdown",
      "source": [
        "Explanation:This code defines a Python function called is_leap_year that takes one argument, year.\n",
        "\n",
        "def is_leap_year(year):: This line defines the function named is_leap_year and specifies that it accepts one parameter, year.\n",
        "\"\"\" Docstring \"\"\": This is a docstring, which explains what the function does, its arguments (Args), and what it returns (Returns).\n",
        "return (year % 4 == 0 and year % 100 != 0) or (year % 400 == 0): This is the core logic of the function. It checks if a year is a leap year based on the following rules:\n",
        "A year is a leap year if it is divisible by 4 (year % 4 == 0).\n",
        "However, if it is divisible by 100 (year % 100 == 0), it is NOT a leap year unless...\n",
        "...it is also divisible by 400 (year % 400 == 0).\n",
        "The and and or operators combine these conditions according to the rules."
      ],
      "metadata": {
        "id": "TnUFo2OOaHui"
      }
    },
    {
      "cell_type": "markdown",
      "source": [
        "Task2:One-shot: Give one input-output example to guide AI in writing a function that converts centimeters to inches.\n",
        "\n",
        "prompt:write a python code to Give one input-output example to write a function that converts centimeters to inches."
      ],
      "metadata": {
        "id": "eEg7U3uza-Iz"
      }
    },
    {
      "cell_type": "code",
      "metadata": {
        "colab": {
          "base_uri": "https://localhost:8080/"
        },
        "id": "fc29b89d",
        "outputId": "5715eac3-731e-411b-9c15-69c60400d2a7"
      },
      "source": [
        "# Example to guide AI:\n",
        "# Input: 100 centimeters\n",
        "# Expected Output: 39.37 inches\n",
        "\n",
        "def convert_cm_to_inches(cm):\n",
        "  # AI would write the conversion logic here\n",
        "  pass\n",
        "\n",
        "# This part is just to show the expected output based on the input\n",
        "input_cm = 100\n",
        "expected_output_inches = 39.37\n",
        "\n",
        "print(f\"Input: {input_cm} centimeters\")\n",
        "print(f\"Expected Output: {expected_output_inches} inches\")"
      ],
      "execution_count": 2,
      "outputs": [
        {
          "output_type": "stream",
          "name": "stdout",
          "text": [
            "Input: 100 centimeters\n",
            "Expected Output: 39.37 inches\n"
          ]
        }
      ]
    },
    {
      "cell_type": "markdown",
      "source": [
        "Explanation:The code is designed to show an example of how a function that converts centimeters to inches should work.\n",
        "Then, there's a function defined: def convert_cm_to_inches(cm):. This is where the conversion would actually happen, but for now, it just has pass, which means it doesn't do anything yet.\n",
        "\n",
        "Finally, the code sets variables for the input_cm (100) and expected_output_inches (39.37) and then prints these values out clearly, so you can see the input and what the output should be.\n",
        "\n",
        "It's basically setting up a clear example for someone (or an AI) to understand the goal of the convert_cm_to_inches function before the function's actual conversion logic is written."
      ],
      "metadata": {
        "id": "PHXRRt-pcRtA"
      }
    },
    {
      "cell_type": "markdown",
      "source": [
        "Task3:Few-shot: Provide 2–3 examples to generate a function that formats full names as “Last, First”.\n",
        "\n",
        "prompt:write a python code to provide 2–3 examples to generate a function that formats full names as “Last, First”."
      ],
      "metadata": {
        "id": "NYF99zCgdEnf"
      }
    },
    {
      "cell_type": "code",
      "metadata": {
        "colab": {
          "base_uri": "https://localhost:8080/"
        },
        "id": "0026f99a",
        "outputId": "e1241f30-e230-4d95-f45f-22fb8af81362"
      },
      "source": [
        "def format_name(full_name):\n",
        "  \"\"\"\n",
        "  Formats a full name as \"Last, First\".\n",
        "\n",
        "  Args:\n",
        "    full_name: The full name string (e.g., \"John Doe\").\n",
        "\n",
        "  Returns:\n",
        "    The formatted name string (e.g., \"Doe, John\").\n",
        "  \"\"\"\n",
        "  name_parts = full_name.split()\n",
        "  if len(name_parts) > 1:\n",
        "    return f\"{name_parts[-1]}, {' '.join(name_parts[:-1])}\"\n",
        "  else:\n",
        "    return full_name # Return as is if only one name part\n",
        "\n",
        "# Example usage based on the provided examples:\n",
        "print(format_name(\"John Doe\"))\n",
        "print(format_name(\"Jane Smith\"))\n",
        "print(format_name(\"Peter Jones\"))\n",
        "print(format_name(\"SingleName\"))"
      ],
      "execution_count": 3,
      "outputs": [
        {
          "output_type": "stream",
          "name": "stdout",
          "text": [
            "Doe, John\n",
            "Smith, Jane\n",
            "Jones, Peter\n",
            "SingleName\n"
          ]
        }
      ]
    },
    {
      "cell_type": "markdown",
      "source": [
        "Explanation:This Python code creates a function called format_name. Its job is to take a full name, like \"John Doe\", and change it to the \"Last, First\" format, like \"Doe, John\".\n",
        "\n",
        "Here's how it generally works:\n",
        "\n",
        "It takes the full name as input.\n",
        "It splits the name into individual words (like \"John\" and \"Doe\").\n",
        "It checks if there's more than one word.\n",
        "If yes, it takes the last word (the last name), puts a comma after it, and then adds the first word (or words) before the last one.\n",
        "If no (meaning it's just a single name), it just returns the name as it was given.\n",
        "The lines after the function definition are just examples showing you how to use the function and what output you'll get for different names.\n",
        "So, it's a simple function that rearranges names based on whether they have a first and last name or just a single name."
      ],
      "metadata": {
        "id": "UJik3fjHd1x0"
      }
    },
    {
      "cell_type": "markdown",
      "source": [
        "Task4:Compare zero-shot and few-shot prompts for writing a function that counts the number of vowels in a string.\n",
        "\n",
        "prompt:write a python code to a function that counts the number of vowels in a string."
      ],
      "metadata": {
        "id": "18s4Ev0jebAz"
      }
    },
    {
      "cell_type": "code",
      "source": [
        "# Comparing zero-shot and few-shot prompts for a vowel counting function\n",
        "\n",
        "# Zero-shot prompt approach:\n",
        "# Simply ask the AI to \"write a function that counts the number of vowels in a string\".\n",
        "# The AI relies solely on its pre-training to understand the request and generate the code.\n",
        "\n",
        "# Few-shot prompt approach:\n",
        "# Provide the AI with a few examples of input strings and their corresponding vowel counts.\n",
        "# Example 1:\n",
        "# Input: \"hello\"\n",
        "# Output: 2\n",
        "# Example 2:\n",
        "# Input: \"programming\"\n",
        "# Output: 3\n",
        "# Example 3:\n",
        "# Input: \"AEIOU\"\n",
        "# Output: 5\n",
        "# This helps guide the AI by showing the desired behavior.\n",
        "\n",
        "# Python function to count vowels:\n",
        "def count_vowels(text):\n",
        "  \"\"\"\n",
        "  Counts the number of vowels in a string.\n",
        "\n",
        "  Args:\n",
        "    text: The input string.\n",
        "\n",
        "  Returns:\n",
        "    The number of vowels in the string.\n",
        "  \"\"\"\n",
        "  vowels = \"aeiouAEIOU\"\n",
        "  vowel_count = 0\n",
        "  for char in text:\n",
        "    if char in vowels:\n",
        "      vowel_count += 1\n",
        "  return vowel_count\n",
        "\n",
        "# Example usage:\n",
        "print(f\"'hello' has {count_vowels('hello')} vowels.\")\n",
        "print(f\"'programming' has {count_vowels('programming')} vowels.\")\n",
        "print(f\"'AEIOU' has {count_vowels('AEIOU')} vowels.\")\n",
        "print(f\"'Rhythm' has {count_vowels('Rhythm')} vowels.\")"
      ],
      "metadata": {
        "colab": {
          "base_uri": "https://localhost:8080/"
        },
        "id": "j8fGeLhje0Dc",
        "outputId": "4af2d69b-7b0d-44bd-e189-fa55528bd8f7"
      },
      "execution_count": 4,
      "outputs": [
        {
          "output_type": "stream",
          "name": "stdout",
          "text": [
            "'hello' has 2 vowels.\n",
            "'programming' has 3 vowels.\n",
            "'AEIOU' has 5 vowels.\n",
            "'Rhythm' has 0 vowels.\n"
          ]
        }
      ]
    },
    {
      "cell_type": "markdown",
      "source": [
        "Explanation:This code is doing two main things: it talks about different ways to ask an AI to write code, and then it gives you the actual code to count vowels in a piece of text.\n",
        "\n",
        "First, the comments explain:\n",
        "\n",
        "Zero-shot prompting: This is like just telling the AI directly what you want it to do (e.g., \"count vowels\").\n",
        "Few-shot prompting: This is when you show the AI a few examples of the task with inputs and the correct outputs (e.g., \"hello\" gives 2, \"programming\" gives 3). This helps the AI understand exactly what you're expecting.\n",
        "Second, there's the Python function called count_vowels.\n",
        "\n",
        "You give it some text.\n",
        "It has a list of all the vowels (\"aeiouAEIOU\").\n",
        "It goes through the text one character at a time.\n",
        "If a character is a vowel, it adds to a counter.\n",
        "Finally, it gives you back the total count of vowels.\n",
        "The lines at the very end just show you how to use the count_vowels function with a few different words and print the results to check if it works.\n",
        "\n",
        "So, the code is both explaining how to guide an AI and providing a useful function for counting vowels."
      ],
      "metadata": {
        "id": "s-N_z9pufLSg"
      }
    },
    {
      "cell_type": "markdown",
      "source": [
        "Task5:Use few-shot prompting to generate a function that reads a .txt file and returns the number of lines.\n",
        "\n",
        "prompt:write a python code to generate a function that reads a .txt file and returns the number of lines."
      ],
      "metadata": {
        "id": "kVdFoiFHgYzB"
      }
    },
    {
      "cell_type": "code",
      "source": [
        "def count_lines_in_file(filename):\n",
        "  \"\"\"\n",
        "  Reads a .txt file and returns the number of lines.\n",
        "\n",
        "  Args:\n",
        "    filename: The path to the .txt file.\n",
        "\n",
        "  Returns:\n",
        "    The number of lines in the file, or -1 if the file is not found.\n",
        "  \"\"\"\n",
        "  try:\n",
        "    with open(filename, 'r') as f:\n",
        "      line_count = sum(1 for line in f)\n",
        "    return line_count\n",
        "  except FileNotFoundError:\n",
        "    print(f\"Error: File '{filename}' not found.\")\n",
        "    return -1\n",
        "\n",
        "# Example usage (replace 'your_file.txt' with the actual filename):\n",
        "# Create a dummy file for testing\n",
        "with open('my_test_file.txt', 'w') as f:\n",
        "    f.write(\"This is line 1.\\n\")\n",
        "    f.write(\"This is line 2.\\n\")\n",
        "    f.write(\"This is line 3.\\n\")\n",
        "\n",
        "file_name = 'my_test_file.txt'\n",
        "num_lines = count_lines_in_file(file_name)\n",
        "\n",
        "if num_lines != -1:\n",
        "  print(f\"The file '{file_name}' has {num_lines} lines.\")\n",
        "\n",
        "# Example with a non-existent file\n",
        "non_existent_file = 'non_existent_file.txt'\n",
        "count_lines_in_file(non_existent_file)"
      ],
      "metadata": {
        "colab": {
          "base_uri": "https://localhost:8080/"
        },
        "id": "AVfMr98thdeW",
        "outputId": "4d528438-e24e-46f4-d747-4f1d3995db41"
      },
      "execution_count": 5,
      "outputs": [
        {
          "output_type": "stream",
          "name": "stdout",
          "text": [
            "The file 'my_test_file.txt' has 3 lines.\n",
            "Error: File 'non_existent_file.txt' not found.\n"
          ]
        },
        {
          "output_type": "execute_result",
          "data": {
            "text/plain": [
              "-1"
            ]
          },
          "metadata": {},
          "execution_count": 5
        }
      ]
    },
    {
      "cell_type": "markdown",
      "source": [
        "Explanation:This Python code gives you a function that can read a text file and tell you how many lines are in it.\n",
        "\n",
        "Here’s the main idea:\n",
        "\n",
        "There's a function called count_lines_in_file. You tell this function the name of the file you want to check.\n",
        "It tries to open that file.\n",
        "If it successfully opens the file, it quickly goes through every line and counts them up. Then it gives you back that total count.\n",
        "If it CAN'T find the file, it will show you an error message and give you back a special number, -1, to let you know that the file wasn't there.\n",
        "The parts at the end are just examples to show you how it works:\n",
        "\n",
        "It creates a small temporary file with a few lines.\n",
        "Then it uses the function to count lines in that temporary file and prints the result.\n",
        "It also tries to use the function on a file that doesn't exist, so you can see what happens when it can't find the file.\n",
        "So, in short, it's a handy tool for finding out how many lines are in a text file, and it's built to handle cases where the file might not be where you expect it."
      ],
      "metadata": {
        "id": "vOh4SYPmhoHX"
      }
    }
  ]
}