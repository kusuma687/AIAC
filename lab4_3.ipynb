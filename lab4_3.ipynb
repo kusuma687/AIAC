{
  "nbformat": 4,
  "nbformat_minor": 0,
  "metadata": {
    "colab": {
      "provenance": [],
      "authorship_tag": "ABX9TyPlGNCS+ul91FHVwyWu5iYR",
      "include_colab_link": true
    },
    "kernelspec": {
      "name": "python3",
      "display_name": "Python 3"
    },
    "language_info": {
      "name": "python"
    }
  },
  "cells": [
    {
      "cell_type": "markdown",
      "metadata": {
        "id": "view-in-github",
        "colab_type": "text"
      },
      "source": [
        "<a href=\"https://colab.research.google.com/github/kusuma687/AIAC/blob/main/lab4_3.ipynb\" target=\"_parent\"><img src=\"https://colab.research.google.com/assets/colab-badge.svg\" alt=\"Open In Colab\"/></a>"
      ]
    },
    {
      "cell_type": "markdown",
      "source": [
        "Task1:Zero-shot: Prompt AI to write a function that checks whether a given year is a leap year.\n",
        "\n",
        "prompt:write a function that checks whether a given year is a leap year."
      ],
      "metadata": {
        "id": "QiKExwq6ZYzo"
      }
    },
    {
      "cell_type": "code",
      "execution_count": 1,
      "metadata": {
        "colab": {
          "base_uri": "https://localhost:8080/"
        },
        "id": "J9XevbwiZVqg",
        "outputId": "2163796c-1909-42e4-f195-7d961636bc4c"
      },
      "outputs": [
        {
          "output_type": "stream",
          "name": "stdout",
          "text": [
            "True\n",
            "False\n",
            "True\n"
          ]
        }
      ],
      "source": [
        "def is_leap_year(year):\n",
        "  \"\"\"\n",
        "  Checks if a given year is a leap year.\n",
        "\n",
        "  Args:\n",
        "    year: The year to check.\n",
        "\n",
        "  Returns:\n",
        "    True if the year is a leap year, False otherwise.\n",
        "  \"\"\"\n",
        "  return (year % 4 == 0 and year % 100 != 0) or (year % 400 == 0)\n",
        "\n",
        "# Example usage:\n",
        "print(is_leap_year(2024))\n",
        "print(is_leap_year(1900))\n",
        "print(is_leap_year(2000))"
      ]
    },
    {
      "cell_type": "markdown",
      "source": [
        "Explanation:This code defines a Python function called is_leap_year that takes one argument, year.\n",
        "\n",
        "def is_leap_year(year):: This line defines the function named is_leap_year and specifies that it accepts one parameter, year.\n",
        "\"\"\" Docstring \"\"\": This is a docstring, which explains what the function does, its arguments (Args), and what it returns (Returns).\n",
        "return (year % 4 == 0 and year % 100 != 0) or (year % 400 == 0): This is the core logic of the function. It checks if a year is a leap year based on the following rules:\n",
        "A year is a leap year if it is divisible by 4 (year % 4 == 0).\n",
        "However, if it is divisible by 100 (year % 100 == 0), it is NOT a leap year unless...\n",
        "...it is also divisible by 400 (year % 400 == 0).\n",
        "The and and or operators combine these conditions according to the rules."
      ],
      "metadata": {
        "id": "TnUFo2OOaHui"
      }
    },
    {
      "cell_type": "markdown",
      "source": [
        "Task2:One-shot: Give one input-output example to guide AI in writing a function that converts centimeters to inches.\n",
        "\n",
        "prompt:write a python code to Give one input-output example to write a function that converts centimeters to inches."
      ],
      "metadata": {
        "id": "eEg7U3uza-Iz"
      }
    },
    {
      "cell_type": "code",
      "metadata": {
        "colab": {
          "base_uri": "https://localhost:8080/"
        },
        "id": "fc29b89d",
        "outputId": "5715eac3-731e-411b-9c15-69c60400d2a7"
      },
      "source": [
        "# Example to guide AI:\n",
        "# Input: 100 centimeters\n",
        "# Expected Output: 39.37 inches\n",
        "\n",
        "def convert_cm_to_inches(cm):\n",
        "  # AI would write the conversion logic here\n",
        "  pass\n",
        "\n",
        "# This part is just to show the expected output based on the input\n",
        "input_cm = 100\n",
        "expected_output_inches = 39.37\n",
        "\n",
        "print(f\"Input: {input_cm} centimeters\")\n",
        "print(f\"Expected Output: {expected_output_inches} inches\")"
      ],
      "execution_count": 2,
      "outputs": [
        {
          "output_type": "stream",
          "name": "stdout",
          "text": [
            "Input: 100 centimeters\n",
            "Expected Output: 39.37 inches\n"
          ]
        }
      ]
    },
    {
      "cell_type": "markdown",
      "source": [
        "Explanation:The code is designed to show an example of how a function that converts centimeters to inches should work.\n",
        "Then, there's a function defined: def convert_cm_to_inches(cm):. This is where the conversion would actually happen, but for now, it just has pass, which means it doesn't do anything yet.\n",
        "\n",
        "Finally, the code sets variables for the input_cm (100) and expected_output_inches (39.37) and then prints these values out clearly, so you can see the input and what the output should be.\n",
        "\n",
        "It's basically setting up a clear example for someone (or an AI) to understand the goal of the convert_cm_to_inches function before the function's actual conversion logic is written."
      ],
      "metadata": {
        "id": "PHXRRt-pcRtA"
      }
    },
    {
      "cell_type": "markdown",
      "source": [
        "Task3:Few-shot: Provide 2–3 examples to generate a function that formats full names as “Last, First”.\n",
        "\n",
        "prompt:write a python code to provide 2–3 examples to generate a function that formats full names as “Last, First”."
      ],
      "metadata": {
        "id": "NYF99zCgdEnf"
      }
    },
    {
      "cell_type": "code",
      "metadata": {
        "colab": {
          "base_uri": "https://localhost:8080/"
        },
        "id": "0026f99a",
        "outputId": "e1241f30-e230-4d95-f45f-22fb8af81362"
      },
      "source": [
        "def format_name(full_name):\n",
        "  \"\"\"\n",
        "  Formats a full name as \"Last, First\".\n",
        "\n",
        "  Args:\n",
        "    full_name: The full name string (e.g., \"John Doe\").\n",
        "\n",
        "  Returns:\n",
        "    The formatted name string (e.g., \"Doe, John\").\n",
        "  \"\"\"\n",
        "  name_parts = full_name.split()\n",
        "  if len(name_parts) > 1:\n",
        "    return f\"{name_parts[-1]}, {' '.join(name_parts[:-1])}\"\n",
        "  else:\n",
        "    return full_name # Return as is if only one name part\n",
        "\n",
        "# Example usage based on the provided examples:\n",
        "print(format_name(\"John Doe\"))\n",
        "print(format_name(\"Jane Smith\"))\n",
        "print(format_name(\"Peter Jones\"))\n",
        "print(format_name(\"SingleName\"))"
      ],
      "execution_count": 3,
      "outputs": [
        {
          "output_type": "stream",
          "name": "stdout",
          "text": [
            "Doe, John\n",
            "Smith, Jane\n",
            "Jones, Peter\n",
            "SingleName\n"
          ]
        }
      ]
    },
    {
      "cell_type": "markdown",
      "source": [
        "Explanation:This Python code creates a function called format_name. Its job is to take a full name, like \"John Doe\", and change it to the \"Last, First\" format, like \"Doe, John\".\n",
        "\n",
        "Here's how it generally works:\n",
        "\n",
        "It takes the full name as input.\n",
        "It splits the name into individual words (like \"John\" and \"Doe\").\n",
        "It checks if there's more than one word.\n",
        "If yes, it takes the last word (the last name), puts a comma after it, and then adds the first word (or words) before the last one.\n",
        "If no (meaning it's just a single name), it just returns the name as it was given.\n",
        "The lines after the function definition are just examples showing you how to use the function and what output you'll get for different names.\n",
        "So, it's a simple function that rearranges names based on whether they have a first and last name or just a single name."
      ],
      "metadata": {
        "id": "UJik3fjHd1x0"
      }
    },
    {
      "cell_type": "code",
      "source": [],
      "metadata": {
        "id": "7IAcEWBWeLmf"
      },
      "execution_count": null,
      "outputs": []
    }
  ]
}