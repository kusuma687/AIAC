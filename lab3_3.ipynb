{
  "nbformat": 4,
  "nbformat_minor": 0,
  "metadata": {
    "colab": {
      "provenance": [],
      "authorship_tag": "ABX9TyPVxPhY2d+9HndotyrEPpyn",
      "include_colab_link": true
    },
    "kernelspec": {
      "name": "python3",
      "display_name": "Python 3"
    },
    "language_info": {
      "name": "python"
    }
  },
  "cells": [
    {
      "cell_type": "markdown",
      "metadata": {
        "id": "view-in-github",
        "colab_type": "text"
      },
      "source": [
        "<a href=\"https://colab.research.google.com/github/kusuma687/AIAC/blob/main/lab3_3.ipynb\" target=\"_parent\"><img src=\"https://colab.research.google.com/assets/colab-badge.svg\" alt=\"Open In Colab\"/></a>"
      ]
    },
    {
      "cell_type": "markdown",
      "source": [
        "Task1:Try 3 different prompts to generate a factorial function.\n",
        "\n",
        "prompt1:Write a function in Python that calculates the\n",
        "factorial of a non-negative integer using recursion.\n",
        "\n",
        "prompt2:Create a Python function that computes the factorial of a given number using a for loop.\n",
        "\n",
        "prompt3:Implement a factorial function in Python using the method and lambda function.\n"
      ],
      "metadata": {
        "id": "FceZZgtCJ1BQ"
      }
    },
    {
      "cell_type": "code",
      "source": [
        "def recursive_factorial(n):\n",
        "    \"\"\"\n",
        "    Calculates the factorial of a non-negative integer using recursion.\n",
        "\n",
        "    Args:\n",
        "        n: A non-negative integer.\n",
        "\n",
        "    Returns:\n",
        "        The factorial of n.\n",
        "    \"\"\"\n",
        "    if n == 0:\n",
        "        return 1\n",
        "    else:\n",
        "        return n * recursive_factorial(n-1)\n",
        "\n",
        "# Example usage:\n",
        "num = 5\n",
        "print(f\"The factorial of {num} using recursion is: {recursive_factorial(num)}\")"
      ],
      "metadata": {
        "colab": {
          "base_uri": "https://localhost:8080/"
        },
        "id": "DGTC-WaOLoIE",
        "outputId": "06eb415f-2a6d-4a8a-8a93-cf1353dc63ca"
      },
      "execution_count": 2,
      "outputs": [
        {
          "output_type": "stream",
          "name": "stdout",
          "text": [
            "The factorial of 5 using recursion is: 120\n"
          ]
        }
      ]
    },
    {
      "cell_type": "markdown",
      "source": [
        "Explanation:The code defines a function recursive_factorial(n) that calculates the factorial of a non-negative integer n using recursion.\n",
        "\n",
        "The base case is when n is 0, in which case it returns 1. This stops the recursion.\n",
        "The recursive step for n > 0 is to return n multiplied by the result of calling recursive_factorial with n-1. This means the function calls itself with a smaller argument until it reaches the base case.\n",
        "The example usage shows how to call the function with num = 5 and prints the result. The function will calculate 5 * 4 * 3 * 2 * 1, which is 120."
      ],
      "metadata": {
        "id": "gRot0NVnMi_y"
      }
    },
    {
      "cell_type": "code",
      "source": [
        "def for_loop_factorial(n):\n",
        "    \"\"\"\n",
        "    Calculates the factorial of a non-negative integer using a for loop.\n",
        "\n",
        "    Args:\n",
        "        n: A non-negative integer.\n",
        "\n",
        "    Returns:\n",
        "        The factorial of n.\n",
        "    \"\"\"\n",
        "    if n == 0:\n",
        "        return 1\n",
        "    else:\n",
        "        result = 1\n",
        "        for i in range(1, n + 1):\n",
        "            result *= i\n",
        "        return result\n",
        "\n",
        "# Example usage:\n",
        "num = 5\n",
        "print(f\"The factorial of {num} using a for loop is: {for_loop_factorial(num)}\")"
      ],
      "metadata": {
        "colab": {
          "base_uri": "https://localhost:8080/"
        },
        "id": "ejwjlXxVOMMr",
        "outputId": "0deb2626-2700-4692-f73d-c776391f4337"
      },
      "execution_count": 3,
      "outputs": [
        {
          "output_type": "stream",
          "name": "stdout",
          "text": [
            "The factorial of 5 using a for loop is: 120\n"
          ]
        }
      ]
    },
    {
      "cell_type": "markdown",
      "source": [
        "Explanation:This code defines a Python function called for_loop_factorial that calculates the factorial of a non-negative integer n using a for loop.\n",
        "\n",
        "def for_loop_factorial(n):: This line defines the function named for_loop_factorial that takes one argument, n.\n",
        "\"\"\"Docstring\"\"\": This is a docstring that explains what the function does, its arguments, and what it returns.\n",
        "if n == 0:: This handles the base case where the input n is 0. The factorial of 0 is 1, so the function returns 1.\n",
        "else:: If n is not 0, the code enters this block.\n",
        "result = 1: A variable result is initialized to 1. This variable will store the calculated factorial.\n",
        "for i in range(1, n + 1):: This starts a for loop that iterates from 1 up to and including n.\n",
        "result *= i: In each iteration of the loop, the current value of result is multiplied by the loop variable i. This accumulates the product of all numbers from 1 to n.\n",
        "return result: After the loop finishes, the function returns the final value of result, which is the factorial of n.\n",
        "num = 5: This line sets a variable num to 5 for demonstration.\n",
        "print(f\"...\"): This line calls the for_loop_factorial function with num and prints the result in a formatted string.\n",
        "In summary, the code iteratively multiplies numbers from 1 up to the given input n to compute the factorial."
      ],
      "metadata": {
        "id": "qSA3vKTyOdg0"
      }
    },
    {
      "cell_type": "code",
      "source": [
        "import math\n",
        "\n",
        "factorial_lambda = lambda n: math.factorial(n)\n",
        "\n",
        "# Example usage:\n",
        "num = 5\n",
        "print(f\"The factorial of {num} using lambda and math.factorial is: {factorial_lambda(num)}\")"
      ],
      "metadata": {
        "colab": {
          "base_uri": "https://localhost:8080/"
        },
        "id": "yF_o4MmSO1wO",
        "outputId": "212e5cc2-1dd1-48b0-984f-61a9ba2231b7"
      },
      "execution_count": 4,
      "outputs": [
        {
          "output_type": "stream",
          "name": "stdout",
          "text": [
            "The factorial of 5 using lambda and math.factorial is: 120\n"
          ]
        }
      ]
    },
    {
      "cell_type": "markdown",
      "source": [
        "Explanation:This code uses the math.factorial() function, which is built into Python, to calculate the factorial.\n",
        "\n",
        "The line factorial_lambda = lambda n: math.factorial(n) creates a small, anonymous function called factorial_lambda. This function takes one input, n, and its job is simply to call math.factorial(n) and return the result.\n",
        "\n",
        "So, when you call factorial_lambda(5), it's essentially the same as calling math.factorial(5), which gives you the factorial of 5. This is a very quick and direct way to get the factorial because Python's math.factorial is highly optimized."
      ],
      "metadata": {
        "id": "nwtY06FePP2C"
      }
    },
    {
      "cell_type": "markdown",
      "source": [
        "Task2:Provide a clear example input-output prompt to generate a sorting function.\n",
        "\n",
        "prompt:input write a python code that generates the sorting function only.output write a python code to generate output of sorting function."
      ],
      "metadata": {
        "id": "ASUuDsPrQnXB"
      }
    },
    {
      "cell_type": "code",
      "source": [
        "# input-write a python code that generates the sorting function only.\n",
        "def sort_list(data):\n",
        "    \"\"\"\n",
        "    Sorts a list in ascending order using the built-in sorted function.\n",
        "\n",
        "    Args:\n",
        "        data: A list.\n",
        "\n",
        "    Returns:\n",
        "        A new list containing the sorted elements.\n",
        "    \"\"\"\n",
        "    return sorted(data)\n",
        "\n",
        "# output-write a python code to generate output of sorting function.\n",
        "my_list = [3, 1, 4, 1, 5, 9, 2, 6]\n",
        "sorted_list = sort_list(my_list)\n",
        "print(sorted_list)"
      ],
      "metadata": {
        "colab": {
          "base_uri": "https://localhost:8080/"
        },
        "id": "PIrT1zVTTSca",
        "outputId": "50cd8798-0258-4745-9c39-d6df8a543a07"
      },
      "execution_count": 10,
      "outputs": [
        {
          "output_type": "stream",
          "name": "stdout",
          "text": [
            "[1, 1, 2, 3, 4, 5, 6, 9]\n"
          ]
        }
      ]
    },
    {
      "cell_type": "markdown",
      "source": [
        "Exaplanation:This code defines a function called sort_list that takes a list as input. Inside the function, it uses Python's built-in sorted() function, which is a very efficient way to sort a list. sorted() returns a new sorted list without changing the original one.\n",
        "\n",
        "Then, the code shows an example: it creates a list my_list, calls sort_list with this list, and stores the result in sorted_list. Finally, it prints sorted_list to show the sorted output."
      ],
      "metadata": {
        "id": "2RvugUG3U5x_"
      }
    },
    {
      "cell_type": "markdown",
      "source": [
        "Task3:Start with the vague prompt “Generate python code to calculate power bill” and\n",
        "improve it step-by-step.\n",
        "\n",
        "prompt:Generate python code to calculate power bill” and improve it step-by-step."
      ],
      "metadata": {
        "id": "fpyBIVGEVJqj"
      }
    },
    {
      "cell_type": "code",
      "source": [
        "def calculate_power_bill_basic(kwh_consumption, rate_per_kwh):\n",
        "    \"\"\"\n",
        "    Calculates a basic power bill based on consumption and a single rate.\n",
        "\n",
        "    Args:\n",
        "        kwh_consumption: The total energy consumed in kilowatt-hours (kWh).\n",
        "        rate_per_kwh: The cost per kilowatt-hour.\n",
        "\n",
        "    Returns:\n",
        "        The total power bill amount.\n",
        "    \"\"\"\n",
        "    return kwh_consumption * rate_per_kwh\n",
        "\n",
        "# Example usage:\n",
        "consumption = 250  # kWh\n",
        "rate = 0.15       # $ per kWh\n",
        "bill_amount = calculate_power_bill_basic(consumption, rate)\n",
        "print(f\"Basic power bill amount: ${bill_amount:.2f}\")"
      ],
      "metadata": {
        "colab": {
          "base_uri": "https://localhost:8080/"
        },
        "id": "h2jqJL6zVm4Z",
        "outputId": "5e48932b-eb0e-44b2-fb1c-adc912a5dc9a"
      },
      "execution_count": 11,
      "outputs": [
        {
          "output_type": "stream",
          "name": "stdout",
          "text": [
            "Basic power bill amount: $37.50\n"
          ]
        }
      ]
    },
    {
      "cell_type": "markdown",
      "source": [
        "Expalanation:This code defines a function called calculate_power_bill_basic that takes the amount of energy consumed (kwh_consumption) and the cost per unit of energy (rate_per_kwh) as input.\n",
        "\n",
        "The function simply multiplies the consumption by the rate to get the total bill amount.\n",
        "\n",
        "The example part of the code sets a sample consumption and rate, calls the function with these values, and then prints the calculated bill amount.\n",
        "\n",
        "It's a very simple calculation for a power bill where there's just one price for all the energy used."
      ],
      "metadata": {
        "id": "gOCrPcz1WCcL"
      }
    },
    {
      "cell_type": "markdown",
      "source": [
        "Task4:Write structured comments to help AI generate two linked functions(e.g., login_user()\n",
        "and register_user()).\n",
        "\n",
        "prompt:write a python code to generate structured comments to help AI generate two linked functions."
      ],
      "metadata": {
        "id": "C9HD09muWnke"
      }
    },
    {
      "cell_type": "code",
      "source": [
        "# Goal: Generate two linked Python functions: register_user and login_user.\n",
        "\n",
        "# --- Function 1: register_user ---\n",
        "# This function should handle new user registration.\n",
        "# It needs to accept a username and a password as input.\n",
        "# Before registering, it must check if the username already exists in a storage (e.g., a dictionary or database).\n",
        "# If the username exists, registration should fail.\n",
        "# If the username does not exist, the username and a SECURELY HASHED version of the password should be stored.\n",
        "# The function should return True if registration is successful, False otherwise.\n",
        "\n",
        "def register_user(username, password):\n",
        "    # AI: Implement registration logic, including username check and password hashing/storage.\n",
        "    pass # Placeholder\n",
        "\n",
        "# --- Function 2: login_user ---\n",
        "# This function should handle user authentication.\n",
        "# It needs to accept a username and a password as input.\n",
        "# It must look up the provided username in the storage where user data is kept.\n",
        "# If the username is found, it must compare the provided password with the stored HASHED password.\n",
        "# This comparison should use a secure method (e.g., comparing hashes).\n",
        "# If the username is not found OR the password does not match the stored hash, login should fail.\n",
        "# The function should return True if login is successful (username found and password matches), False otherwise.\n",
        "\n",
        "def login_user(username, password):\n",
        "    # AI: Implement login logic, including user lookup and secure password verification.\n",
        "    pass # Placeholder\n",
        "\n",
        "# AI: After generating the functions, please also provide a simple example demonstrating\n",
        "# how to use both register_user and login_user, showing both successful and failed cases."
      ],
      "metadata": {
        "id": "5WFInuOEXOrY"
      },
      "execution_count": 15,
      "outputs": []
    },
    {
      "cell_type": "markdown",
      "source": [
        "Explanation:This cell contains comments and basic function definitions (def register_user(...) and def login_user(...)). The comments are written in a structured way to tell an AI what these functions should do.\n",
        "\n",
        "For example, the comments for register_user explain that it should take a username and password, check if the username is already used, and securely store the user's information if the username is new.\n",
        "\n",
        "Similarly, the comments for login_user explain that it should take a username and password and check if they match the stored information for an existing user.\n",
        "\n",
        "The pass inside each function is just a placeholder, indicating that the actual code to perform these actions needs to be added. The goal of this cell is to provide clear instructions so that an AI can then write the complete code for these two linked functions."
      ],
      "metadata": {
        "id": "WKCop0Q9X6xP"
      }
    }
  ]
}